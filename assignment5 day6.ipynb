{
 "cells": [
  {
   "cell_type": "raw",
   "metadata": {},
   "source": [
    "1) For this challenge,create a bank account class that has two attributes\n",
    "*ownerName\n",
    "*Balance\n",
    "And two methods\n",
    "*deposit\n",
    "*withdraw\n",
    "As an added requirement,withdrawals may not exceed the available balance.\n",
    "Instantiate your class,make several deposits and withdrawals,and test to make sure the account\n",
    "cant be overdrawn"
   ]
  },
  {
   "cell_type": "code",
   "execution_count": 13,
   "metadata": {},
   "outputs": [],
   "source": [
    "class Bank_Account: \n",
    "    def __init__(self): \n",
    "        self.balance=0\n",
    "        print(\"Hello!!! Welcome to the Deposit & Withdrawal Machine\") \n",
    "  \n",
    "    def deposit(self): \n",
    "        amount=float(input(\"Enter amount to be Deposited: \")) \n",
    "        self.balance += amount \n",
    "        print(\"\\n Amount Deposited:\",amount) \n",
    "  \n",
    "    def withdraw(self): \n",
    "        amount = float(input(\"Enter amount to be Withdrawn: \")) \n",
    "        if self.balance>=amount: \n",
    "            self.balance-=amount \n",
    "            print(\"\\n You Withdrew:\", amount) \n",
    "        else: \n",
    "            print(\"\\n Insufficient balance  \") \n",
    "  \n",
    "    def display(self): \n",
    "        print(\"\\n Net Available Balance=\",self.balance) "
   ]
  },
  {
   "cell_type": "code",
   "execution_count": 14,
   "metadata": {},
   "outputs": [
    {
     "name": "stdout",
     "output_type": "stream",
     "text": [
      "Hello!!! Welcome to the Deposit & Withdrawal Machine\n",
      "Enter amount to be Deposited: 2000\n",
      "\n",
      " Amount Deposited: 2000.0\n",
      "Enter amount to be Withdrawn: 1000\n",
      "\n",
      " You Withdrew: 1000.0\n",
      "\n",
      " Net Available Balance= 1000.0\n"
     ]
    }
   ],
   "source": [
    "s = Bank_Account() \n",
    "   \n",
    "s.deposit() \n",
    "s.withdraw() \n",
    "s.display() "
   ]
  },
  {
   "cell_type": "raw",
   "metadata": {},
   "source": [
    "2.For this challenge,create a cone class that has two attributes:\n",
    "*R=Radius\n",
    "*h=Height\n",
    "And two methods:\n",
    "*Volume = Π * r2 = (h/3)\n",
    "*Surface area : base : Π * r2 , side : Π * r * √(r2 + h2)\n",
    "Make only one class with functions,as in where required import Math"
   ]
  },
  {
   "cell_type": "code",
   "execution_count": 7,
   "metadata": {},
   "outputs": [],
   "source": [
    "import math \n",
    "pi = math.pi \n",
    "  \n",
    "class cone:\n",
    "     def __init__(self,r,h): \n",
    "        #print(\"----------------\")\n",
    "            self.r = r\n",
    "            self.h = h\n",
    "     def volume(self): \n",
    "        self.volume = math.pi * self.r * self.r * (self.h/3)\n",
    "        print(\"\\n Voulme :\",self.volume) \n",
    "  \n",
    "     def surface_area(self): \n",
    "        self.surface_area = math.pi *self.r *self.r \n",
    "        print(\"\\n Surface area :\",self.surface_area) \n",
    "       "
   ]
  },
  {
   "cell_type": "code",
   "execution_count": 10,
   "metadata": {},
   "outputs": [],
   "source": [
    "s = cone(5.8,12.78)"
   ]
  },
  {
   "cell_type": "code",
   "execution_count": 11,
   "metadata": {},
   "outputs": [
    {
     "name": "stdout",
     "output_type": "stream",
     "text": [
      "\n",
      " Voulme : 450.2103334524003\n",
      "\n",
      " Surface area : 105.68317686676063\n"
     ]
    }
   ],
   "source": [
    "s.volume()\n",
    "s.surface_area()"
   ]
  }
 ],
 "metadata": {
  "kernelspec": {
   "display_name": "Python 3",
   "language": "python",
   "name": "python3"
  },
  "language_info": {
   "codemirror_mode": {
    "name": "ipython",
    "version": 3
   },
   "file_extension": ".py",
   "mimetype": "text/x-python",
   "name": "python",
   "nbconvert_exporter": "python",
   "pygments_lexer": "ipython3",
   "version": "3.8.3"
  }
 },
 "nbformat": 4,
 "nbformat_minor": 4
}
